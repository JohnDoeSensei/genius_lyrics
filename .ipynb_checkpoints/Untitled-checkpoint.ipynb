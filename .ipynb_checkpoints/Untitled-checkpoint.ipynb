{
 "cells": [
  {
   "cell_type": "code",
   "execution_count": 1,
   "metadata": {},
   "outputs": [],
   "source": [
    "import pandas as pd\n",
    "import re\n",
    "import ast"
   ]
  },
  {
   "cell_type": "code",
   "execution_count": 2,
   "metadata": {},
   "outputs": [],
   "source": [
    "df = pd.read_csv('Nepal.csv')"
   ]
  },
  {
   "cell_type": "code",
   "execution_count": 3,
   "metadata": {},
   "outputs": [],
   "source": [
    "def clean_lyrics(df,column):\n",
    "    \"\"\"\n",
    "    This function cleans the words without importance and fix the format of the  dataframe's column lyrics \n",
    "    parameters:\n",
    "    df = dataframe\n",
    "    column = name of the column to clean\n",
    "    \"\"\"\n",
    "    df = df\n",
    "    df[column] = df[column].str.lower()\n",
    "    df[column] = df[column].str.lower().str.replace(r\"instrumental|intro|guitar|solo\",\"\")\n",
    "    #df[column] = df[column].str.replace(\"\\n\",\" \").str.replace(r\"[^\\w\\d'\\s]+\",\"\").str.replace(\"efil ym fo flah\",\"\")\n",
    "    df[column] = df[column].str.strip()\n",
    "\n",
    "    return df\n",
    "\n",
    "def lower(str):\n",
    "    return str.lower()\n",
    "\n",
    "def delete_parenthesis(text): \n",
    "    delete_parenthesis = []\n",
    "    bracket_1 = 0\n",
    "    sub_string = ''\n",
    "    for t in text :\n",
    "        if bracket_1 == 0 :\n",
    "            if t == '[' :\n",
    "                bracket_1 = 1\n",
    "                sub_string += str(t)\n",
    "        if bracket_1 == 1 :\n",
    "            sub_string += str(t)\n",
    "            if t == ']':\n",
    "                sub_string += str(t)\n",
    "                print(\"word a delete\", sub_string)\n",
    "                delete_parenthesis.append(sub_string)\n",
    "                sub_string = ''\n",
    "                bracket_1 = 0\n",
    "    \n",
    "    for word in delete_parenthesis :\n",
    "        text = text.replace(word,'')\n",
    "    return text \n",
    "        \n"
   ]
  },
  {
   "cell_type": "code",
   "execution_count": 8,
   "metadata": {},
   "outputs": [
    {
     "name": "stderr",
     "output_type": "stream",
     "text": [
      "<ipython-input-5-540c136337f7>:10: FutureWarning: The default value of regex will change from True to False in a future version.\n",
      "  df[column] = df[column].str.replace(r\"verse |[1|2|3]|chorus|bridge|outro|[couplet]\",\"\").str.replace(\"[\",\"\").str.replace(\"]\",\"\")\n",
      "<ipython-input-5-540c136337f7>:10: FutureWarning: The default value of regex will change from True to False in a future version. In addition, single character regular expressions will *not* be treated as literal strings when regex=True.\n",
      "  df[column] = df[column].str.replace(r\"verse |[1|2|3]|chorus|bridge|outro|[couplet]\",\"\").str.replace(\"[\",\"\").str.replace(\"]\",\"\")\n",
      "<ipython-input-5-540c136337f7>:11: FutureWarning: The default value of regex will change from True to False in a future version.\n",
      "  df[column] = df[column].str.lower().str.replace(r\"instrumental|intro|guitar|solo\",\"\")\n"
     ]
    },
    {
     "data": {
      "text/plain": [
       "'ars d \"rin d\\'séia\"\\n\\n\\nsa\\n-a\\n\\n \\nj\\'n ai v in d\\'s gars\\naids d kissman mais is n rin d\\'séia\\nq n a ds barrs\\n \\'mnd dans a iè a aé, n fai min d rin vir\\nj\\'m dmand \\'s qi s bais\\nis j\\'m ra q j\\'ai rin d\\'séia\\ndn j\\'gra mais \\'s ssif,  hary m\\'bsi\\n hrs arès j\\'a q\\'\\'s naz\\nj\\'ai hrhé mais y\\'a rin d\\'séia, j\\'sis dans n vib désa\\'\\nj\\'ris as q\\'j\\'ai \\'hix, grs\\n\\'s as q\\'ds babas\\nsr -à j\\'vais as arr hin\\n mêm si y\\'a d mnd drrièr\\n, j\\'vis s hss d \\'inérir\\n sr ma ê q y\\'a rin d\\'sa\\nsr ma, sr ma ê q y\\'a rin d\\'sa, ma -g \\'s...\\n\\nrfrain\\nrin d\\'séia,  sn i a rin d\\'séia\\n\\'insr  a rin d\\'séia\\nj\\'sais mêm as j\\'fais qi, dmain ça fai rin d\\'séia\\n ça sr à rin d\\'fair sy, grs, y\\'a rin d\\'séia\\n nsais q\\' hmin éai  raé\\nmais  \\'ras q \\'as rin d\\'séia\\n, ass ns vir\\n, ass ns vir\\nrin d\\'séia,  sn i a rin d\\'séia\\n\\'insr  a rin d\\'séia\\nj\\'sais mêm as j\\'fais qi, dmain ça fai rin d\\'séia\\n ça sr à rin d\\'fair sy, grs, y\\'a rin d\\'séia\\n nsais q\\' hmin éai  raé\\nmais  \\'ras q \\'as rin d\\'séia\\n, ass ns vir\\n, ass ns vir\\n\\n \\na vi \\'s n brass\\n x sndr s abysss  nagr n srfa\\nané a, masqé mm d\\'hab\\ns yx sr \\'kimérag n évian \\'sr-a\\nais, i sffi d\\'n ass\\nn mmn sr s davns, n fini sr n a\\n\\'s s a mêm q\\'avan, nsé à ms niggas, bavans\\nqi favn q\\' bavai avan, n s vn d\\'n ar\\nj\\'sis dans n fai mr\\nj\\'ms ds jggings dis ris igs\\n  sra ni n dr-vi ni n bss\\nqi m\\'frn hangr d\\'avis\\nn a hadsh a rin\\ns ms gavas disn : \"yi !\"\\nan q\\'y\\'a \\'b d\\'shi dans \\'b jans\\nah... vryhing gi\\n\\nrfrain\\nrin d\\'séia,  sn i a rin d\\'séia\\n\\'insr  a rin d\\'séia\\nj\\'sais mêm as j\\'fais qi, dmain ça fai rin d\\'séia\\n ça sr à rin d\\'fair sy, grs, y\\'a rin d\\'séia\\n nsais q\\' hmin éai  raé\\nmais  \\'ras q \\'as rin d\\'séia\\n, ass ns vir\\n, ass ns vir\\nrin d\\'séia,  sn i a rin d\\'séia\\n\\'insr  a rin d\\'séia\\nj\\'sais mêm as j\\'fais qi, dmain ça fai rin d\\'séia\\n ça sr à rin d\\'fair sy, grs, y\\'a rin d\\'séia\\n nsais q\\' hmin éai  raé\\nmais  \\'ras q \\'as rin d\\'séia\\n, ass ns vir\\n, ass ns vir'"
      ]
     },
     "execution_count": 8,
     "metadata": {},
     "output_type": "execute_result"
    }
   ],
   "source": [
    "clean_lyrics(df, 'lyrics')\n",
    "df['lyrics'][0]"
   ]
  },
  {
   "cell_type": "code",
   "execution_count": 5,
   "metadata": {},
   "outputs": [],
   "source": [
    "def clean_lyrics(df,column):\n",
    "    \"\"\"\n",
    "    This function cleans the words without importance and fix the format of the  dataframe's column lyrics \n",
    "    parameters:\n",
    "    df = dataframe\n",
    "    column = name of the column to clean\n",
    "    \"\"\"\n",
    "    df = df\n",
    "    df[column] = df[column].str.lower()\n",
    "    df[column] = df[column].str.replace(r\"verse |[1|2|3]|chorus|bridge|outro|[couplet]\",\"\").str.replace(\"[\",\"\").str.replace(\"]\",\"\")\n",
    "    df[column] = df[column].str.lower().str.replace(r\"instrumental|intro|guitar|solo\",\"\")\n",
    "    df[column] = df[column].str.replace(\"\\n\",\" \").str.replace(r\"[^\\w\\d'\\s]+\",\"\").str.replace(\"efil ym fo flah\",\"\")\n",
    "    df[column] = df[column].str.strip()\n",
    "\n",
    "    return df"
   ]
  },
  {
   "cell_type": "code",
   "execution_count": 6,
   "metadata": {},
   "outputs": [
    {
     "name": "stdout",
     "output_type": "stream",
     "text": [
      "he\n"
     ]
    }
   ],
   "source": [
    "if \"\\n\" in df['lyrics'][0]:\n",
    "    print('he')"
   ]
  },
  {
   "cell_type": "code",
   "execution_count": 7,
   "metadata": {},
   "outputs": [
    {
     "ename": "NameError",
     "evalue": "name 'delete_n' is not defined",
     "output_type": "error",
     "traceback": [
      "\u001b[0;31m---------------------------------------------------------------------------\u001b[0m",
      "\u001b[0;31mNameError\u001b[0m                                 Traceback (most recent call last)",
      "\u001b[0;32m<ipython-input-7-0c9f7a951f02>\u001b[0m in \u001b[0;36m<module>\u001b[0;34m\u001b[0m\n\u001b[0;32m----> 1\u001b[0;31m \u001b[0mdelete_n\u001b[0m\u001b[0;34m(\u001b[0m\u001b[0mdf\u001b[0m\u001b[0;34m[\u001b[0m\u001b[0;34m'lyrics'\u001b[0m\u001b[0;34m]\u001b[0m\u001b[0;34m[\u001b[0m\u001b[0;36m0\u001b[0m\u001b[0;34m]\u001b[0m\u001b[0;34m)\u001b[0m\u001b[0;34m\u001b[0m\u001b[0;34m\u001b[0m\u001b[0m\n\u001b[0m",
      "\u001b[0;31mNameError\u001b[0m: name 'delete_n' is not defined"
     ]
    }
   ],
   "source": [
    "delete_n(df['lyrics'][0])"
   ]
  }
 ],
 "metadata": {
  "kernelspec": {
   "display_name": "Python 3",
   "language": "python",
   "name": "python3"
  },
  "language_info": {
   "codemirror_mode": {
    "name": "ipython",
    "version": 3
   },
   "file_extension": ".py",
   "mimetype": "text/x-python",
   "name": "python",
   "nbconvert_exporter": "python",
   "pygments_lexer": "ipython3",
   "version": "3.8.10"
  }
 },
 "nbformat": 4,
 "nbformat_minor": 5
}
